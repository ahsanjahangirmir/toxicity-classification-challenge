{
  "cells": [
    {
      "cell_type": "code",
      "execution_count": null,
      "metadata": {
        "colab": {
          "base_uri": "https://localhost:8080/"
        },
        "id": "j129mluhG6ox",
        "outputId": "7325bf9f-4bc3-4cc5-844d-7ea9a1a87059"
      },
      "outputs": [
        {
          "name": "stdout",
          "output_type": "stream",
          "text": [
            "Requirement already satisfied: keras in /usr/local/lib/python3.10/dist-packages (2.14.0)\n",
            "Requirement already satisfied: gensim in /usr/local/lib/python3.10/dist-packages (4.3.2)\n",
            "Requirement already satisfied: numpy>=1.18.5 in /usr/local/lib/python3.10/dist-packages (from gensim) (1.23.5)\n",
            "Requirement already satisfied: scipy>=1.7.0 in /usr/local/lib/python3.10/dist-packages (from gensim) (1.11.4)\n",
            "Requirement already satisfied: smart-open>=1.8.1 in /usr/local/lib/python3.10/dist-packages (from gensim) (6.4.0)\n"
          ]
        },
        {
          "name": "stderr",
          "output_type": "stream",
          "text": [
            "[nltk_data] Downloading package stopwords to /root/nltk_data...\n",
            "[nltk_data]   Unzipping corpora/stopwords.zip.\n"
          ]
        }
      ],
      "source": [
        "import torch\n",
        "import torch.nn as nn\n",
        "import torch.optim as optim\n",
        "from torch.utils.data import DataLoader, TensorDataset\n",
        "from sklearn.model_selection import train_test_split\n",
        "from sklearn.metrics import accuracy_score\n",
        "from torchtext.vocab import GloVe\n",
        "from torchtext.data.utils import get_tokenizer\n",
        "import torch.nn.functional as F\n",
        "\n",
        "!pip install keras\n",
        "!pip install gensim\n",
        "from gensim.models import Word2Vec\n",
        "from keras.preprocessing.sequence import pad_sequences\n",
        "from keras.preprocessing.text import Tokenizer\n",
        "import nltk\n",
        "import csv\n",
        "from nltk.corpus import stopwords\n",
        "nltk.download('stopwords')\n",
        "import pandas as pd\n",
        "import numpy as np\n",
        "import re"
      ]
    },
    {
      "cell_type": "markdown",
      "metadata": {},
      "source": [
        "This cell loads the trainData, skipping any blank lines. The Dataset is converted into a Numpy array which is then\n",
        "divided into data and labels. 1st column has sentences and the rest of the columns are the labels"
      ]
    },
    {
      "cell_type": "code",
      "execution_count": 135,
      "metadata": {
        "colab": {
          "base_uri": "https://localhost:8080/"
        },
        "id": "q4j_F-gKG6o2",
        "outputId": "ab6a4110-ab68-4481-bd0e-94ca9509d19c"
      },
      "outputs": [
        {
          "name": "stderr",
          "output_type": "stream",
          "text": [
            "<ipython-input-135-5536f13e2d57>:1: FutureWarning: The error_bad_lines argument has been deprecated and will be removed in a future version. Use on_bad_lines in the future.\n",
            "\n",
            "\n",
            "  trainData2 = pd.read_csv('train.csv',skip_blank_lines = True,encoding='utf8', error_bad_lines=False)\n"
          ]
        },
        {
          "name": "stdout",
          "output_type": "stream",
          "text": [
            "(159571, 8)\n"
          ]
        }
      ],
      "source": [
        "trainData2 = pd.read_csv('train.csv',skip_blank_lines = True,encoding='utf8', error_bad_lines=False)\n",
        "trainData2 = trainData2.to_numpy()\n",
        "print(trainData2.shape)\n",
        "trainData1 = trainData2[:,1]\n",
        "trainLabels1 = trainData2[:,2:]\n"
      ]
    },
    {
      "cell_type": "markdown",
      "metadata": {},
      "source": [
        "This Cell cleans the data by removing all stop words, punctuation, numbers, URLs, and shifts all letters to lowercase"
      ]
    },
    {
      "cell_type": "code",
      "execution_count": 136,
      "metadata": {
        "id": "7uc02kBNG6o3"
      },
      "outputs": [],
      "source": [
        "def lowercase(txt):\n",
        "\n",
        "    return txt.lower()\n",
        "\n",
        "def remove_punctuation(txt):\n",
        "\n",
        "    txt= re.sub(r'[^\\w\\s]', '', txt)\n",
        "    # list_of_words = txt.split()\n",
        "    # final_list = [word for word in list_of_words if word not in stop_arr]\n",
        "    # temp = ' '.join(final_list)\n",
        "\n",
        "    return txt\n",
        "\n",
        "def remove_stopwords(txt):\n",
        "\n",
        "    stop_arr = set(stopwords.words('english'))\n",
        "    list_of_words = txt.split()\n",
        "    final_list = [word for word in list_of_words if word not in stop_arr]\n",
        "    temp = ' '.join(final_list)\n",
        "\n",
        "    return temp\n",
        "\n",
        "def remove_numbers(txt):\n",
        "\n",
        "    txt= re.sub(r'\\d', '', txt)\n",
        "    return txt\n",
        "\n",
        "def remove_url(txt):\n",
        "\n",
        "    txt= re.sub(r'http\\S+|www\\S+|https\\S+', '', txt, flags=re.MULTILINE)\n",
        "    return txt\n",
        "\n",
        "def normalize_sentence(txt):\n",
        "    '''\n",
        "    Aggregates all the above functions to normalize/clean a sentence\n",
        "    '''\n",
        "    txt = lowercase(txt)\n",
        "    txt = remove_punctuation(txt)\n",
        "    txt = remove_stopwords(txt)\n",
        "    txt = remove_numbers(txt)\n",
        "    txt = remove_url(txt)\n",
        "\n",
        "    return txt\n",
        "trainData1 = np.array([normalize_sentence(str(sentence)) for sentence in trainData1])"
      ]
    },
    {
      "cell_type": "markdown",
      "metadata": {},
      "source": [
        "Over here we are using Tokenizer to extract vocabulary from the dataset. Each word in the dataset gets assigned a unique integer."
      ]
    },
    {
      "cell_type": "markdown",
      "metadata": {},
      "source": [
        "Moreover, we convert the integers into a sequence that represents the words in the vocab"
      ]
    },
    {
      "cell_type": "markdown",
      "metadata": {},
      "source": [
        "Furthermore we train a word2vec model to fit to the sequences which is then used to extract an embedding matrix. Each row now represents a vector for a word in the vocab"
      ]
    },
    {
      "cell_type": "code",
      "execution_count": 137,
      "metadata": {
        "id": "7AnbnE74G6o3"
      },
      "outputs": [],
      "source": [
        "tokenizer = Tokenizer()\n",
        "tokenizer.fit_on_texts(trainData1)\n",
        "sequences = tokenizer.texts_to_sequences(trainData1)\n",
        "word2vec_model = Word2Vec(sentences=sequences, vector_size=100, window=5, min_count=1, workers=4)\n",
        "word_index = tokenizer.word_index\n",
        "vocab_size = len(word_index) + 1\n",
        "embedding_matrix = word2vec_model.wv.vectors\n",
        "max_sequence_length = 60\n",
        "padded_sequences = pad_sequences(sequences, maxlen=max_sequence_length, padding='post') #this ensures all the sequences are of the same length."
      ]
    },
    {
      "cell_type": "markdown",
      "metadata": {},
      "source": [
        "Converting all the train data and validation data into tensors"
      ]
    },
    {
      "cell_type": "code",
      "execution_count": 166,
      "metadata": {
        "id": "lYkWbBcmG6o5"
      },
      "outputs": [],
      "source": [
        "X = torch.tensor(padded_sequences[:120000], dtype=torch.long)\n",
        "y = torch.tensor(trainLabels1[:120000,:].astype('float32'))\n",
        "X1 = torch.tensor(padded_sequences[120000:], dtype=torch.long)\n",
        "y1 = torch.tensor(trainLabels1[120000:,:].astype('float32'))"
      ]
    },
    {
      "cell_type": "markdown",
      "metadata": {},
      "source": [
        "The init function defines an embedding which converts integer encoded words into dense vectors."
      ]
    },
    {
      "cell_type": "markdown",
      "metadata": {},
      "source": [
        "LSTM is used to identify the sequential dependencies on the input data"
      ]
    },
    {
      "cell_type": "markdown",
      "metadata": {},
      "source": [
        "nn.linear outputs the LSTM output into the number of classes"
      ]
    },
    {
      "cell_type": "markdown",
      "metadata": {},
      "source": [
        "The forward function defines the way the input model is processed through the layers to produce the output. Once again embeddings are used"
      ]
    },
    {
      "cell_type": "code",
      "execution_count": 167,
      "metadata": {
        "id": "4SfcZwD7G6o5"
      },
      "outputs": [],
      "source": [
        "class SentimentClassifier(nn.Module):\n",
        "    def __init__(self, vocab_size, embed_size, hidden_size, num_classes):\n",
        "        super(SentimentClassifier, self).__init__()\n",
        "        self.embedding = nn.Embedding(vocab_size, embed_size)\n",
        "        self.lstm = nn.LSTM(embed_size, hidden_size, batch_first=True)\n",
        "        self.fc = nn.Linear(hidden_size, num_classes)\n",
        "\n",
        "    def forward(self, x):\n",
        "        embed = self.embedding(x)\n",
        "        lstm_out, _ = self.lstm(embed)\n",
        "        output = self.fc(lstm_out[:,-1,:])\n",
        "        return output"
      ]
    },
    {
      "cell_type": "markdown",
      "metadata": {},
      "source": [
        "Instance of the sentiment classifier is created using the following variables:"
      ]
    },
    {
      "cell_type": "code",
      "execution_count": 168,
      "metadata": {
        "id": "aPr5dq-OG6o6"
      },
      "outputs": [],
      "source": [
        "embed_size = 50     #This represents the dimentionality of the embeddings\n",
        "hidden_size = 60    #This represents the units in the hidden state of the LSTM layer\n",
        "num_classes = 6     #Total possible classes from which we can get an output\n",
        "\n",
        "model = SentimentClassifier(vocab_size, embed_size, hidden_size, num_classes)   "
      ]
    },
    {
      "cell_type": "markdown",
      "metadata": {},
      "source": [
        "This cell has the definition of the loss function and the optimizer of type adam with a learning rate of 0.0001"
      ]
    },
    {
      "cell_type": "markdown",
      "metadata": {},
      "source": [
        "DataLoader is used to handle batching, shuffling, and loading the training data efficiently."
      ]
    },
    {
      "cell_type": "code",
      "execution_count": 169,
      "metadata": {
        "id": "4QjrytOFG6o6"
      },
      "outputs": [],
      "source": [
        "loss_func = nn.BCEWithLogitsLoss()\n",
        "optimizer = optim.Adam(model.parameters(), lr=0.0001)\n",
        "\n",
        "num_epochs = 200\n",
        "batch_size = 40\n",
        "\n",
        "X = X.to(torch.device(\"cuda\"))\n",
        "y = y.to(torch.device(\"cuda\"))\n",
        "train_dataset = TensorDataset(X,y)\n",
        "train_loader = DataLoader(train_dataset, batch_size=batch_size, shuffle=True)"
      ]
    },
    {
      "cell_type": "markdown",
      "metadata": {},
      "source": [
        "The outer loop goes on for the number of epochs defined (200)"
      ]
    },
    {
      "cell_type": "markdown",
      "metadata": {},
      "source": [
        "The inner loop goes for the batches of data that are provided by the dataLoader"
      ]
    },
    {
      "cell_type": "markdown",
      "metadata": {},
      "source": [
        "Zero grad is done to zero out the gradients for each iteration"
      ]
    },
    {
      "cell_type": "markdown",
      "metadata": {},
      "source": [
        "The loss function calculates the loss whereas the backward part is used to compute the gradients with respect to the loss values"
      ]
    },
    {
      "cell_type": "markdown",
      "metadata": {},
      "source": [
        "The optimizer.step() updates the model parameters using the gradients and the optimizer."
      ]
    },
    {
      "cell_type": "code",
      "execution_count": 170,
      "metadata": {
        "colab": {
          "base_uri": "https://localhost:8080/"
        },
        "id": "Ie4ScqhIG6o6",
        "outputId": "20a19d1c-7146-4138-b739-330aaff2d3ca"
      },
      "outputs": [
        {
          "name": "stdout",
          "output_type": "stream",
          "text": [
            "Epoch 1/200, Loss: 0.06087476387619972\n",
            "Epoch 2/200, Loss: 0.20868292450904846\n",
            "Epoch 3/200, Loss: 0.06210465729236603\n",
            "Epoch 4/200, Loss: 0.06646235287189484\n",
            "Epoch 5/200, Loss: 0.05151171237230301\n",
            "Epoch 6/200, Loss: 0.06692270934581757\n",
            "Epoch 7/200, Loss: 0.154835507273674\n",
            "Epoch 8/200, Loss: 0.10982824116945267\n",
            "Epoch 9/200, Loss: 0.15515229105949402\n",
            "Epoch 10/200, Loss: 0.01880861259996891\n",
            "Epoch 11/200, Loss: 0.04806936904788017\n",
            "Epoch 12/200, Loss: 0.04943617060780525\n",
            "Epoch 13/200, Loss: 0.04432258382439613\n",
            "Epoch 14/200, Loss: 0.06823522597551346\n",
            "Epoch 15/200, Loss: 0.1135869100689888\n",
            "Epoch 16/200, Loss: 0.05505584552884102\n",
            "Epoch 17/200, Loss: 0.10799290984869003\n",
            "Epoch 18/200, Loss: 0.028679411858320236\n",
            "Epoch 19/200, Loss: 0.030765462666749954\n",
            "Epoch 20/200, Loss: 0.009288051165640354\n",
            "Epoch 21/200, Loss: 0.0723707526922226\n",
            "Epoch 22/200, Loss: 0.018867310136556625\n",
            "Epoch 23/200, Loss: 0.0847838819026947\n",
            "Epoch 24/200, Loss: 0.028209496289491653\n",
            "Epoch 25/200, Loss: 0.017687765881419182\n",
            "Epoch 26/200, Loss: 0.04361388087272644\n",
            "Epoch 27/200, Loss: 0.039157312363386154\n",
            "Epoch 28/200, Loss: 0.04551919549703598\n",
            "Epoch 29/200, Loss: 0.027729589492082596\n",
            "Epoch 30/200, Loss: 0.02445797435939312\n",
            "Epoch 31/200, Loss: 0.03171587735414505\n",
            "Epoch 32/200, Loss: 0.03189651668071747\n",
            "Epoch 33/200, Loss: 0.032132260501384735\n",
            "Epoch 34/200, Loss: 0.015143188647925854\n",
            "Epoch 35/200, Loss: 0.005182230845093727\n",
            "Epoch 36/200, Loss: 0.038383856415748596\n",
            "Epoch 37/200, Loss: 0.01327473670244217\n",
            "Epoch 38/200, Loss: 0.014026378281414509\n",
            "Epoch 39/200, Loss: 0.024094419553875923\n",
            "Epoch 40/200, Loss: 0.02448161505162716\n",
            "Epoch 41/200, Loss: 0.049985259771347046\n",
            "Epoch 42/200, Loss: 0.03043324500322342\n",
            "Epoch 43/200, Loss: 0.047541581094264984\n",
            "Epoch 44/200, Loss: 0.018073830753564835\n",
            "Epoch 45/200, Loss: 0.03387557715177536\n",
            "Epoch 46/200, Loss: 0.017978139221668243\n",
            "Epoch 47/200, Loss: 0.002765138167887926\n",
            "Epoch 48/200, Loss: 0.015807509422302246\n",
            "Epoch 49/200, Loss: 0.02933141216635704\n",
            "Epoch 50/200, Loss: 0.029106687754392624\n",
            "Epoch 51/200, Loss: 0.035615112632513046\n",
            "Epoch 52/200, Loss: 0.006326337810605764\n",
            "Epoch 53/200, Loss: 0.016712691634893417\n",
            "Epoch 54/200, Loss: 0.019415946677327156\n",
            "Epoch 55/200, Loss: 0.012608081102371216\n",
            "Epoch 56/200, Loss: 0.0157680194824934\n",
            "Epoch 57/200, Loss: 0.008748576045036316\n",
            "Epoch 58/200, Loss: 0.004754907451570034\n",
            "Epoch 59/200, Loss: 0.02757488749921322\n",
            "Epoch 60/200, Loss: 0.02396470494568348\n",
            "Epoch 61/200, Loss: 0.015150739811360836\n",
            "Epoch 62/200, Loss: 0.04917200654745102\n",
            "Epoch 63/200, Loss: 0.03783688321709633\n",
            "Epoch 64/200, Loss: 0.04205070808529854\n",
            "Epoch 65/200, Loss: 0.01269175112247467\n",
            "Epoch 66/200, Loss: 0.012198511511087418\n",
            "Epoch 67/200, Loss: 0.008280616253614426\n",
            "Epoch 68/200, Loss: 0.0580655038356781\n",
            "Epoch 69/200, Loss: 0.01484517753124237\n",
            "Epoch 70/200, Loss: 0.005760431755334139\n",
            "Epoch 71/200, Loss: 0.01005187351256609\n",
            "Epoch 72/200, Loss: 0.003576998133212328\n",
            "Epoch 73/200, Loss: 0.003034964669495821\n",
            "Epoch 74/200, Loss: 0.012026728130877018\n",
            "Epoch 75/200, Loss: 0.023626863956451416\n",
            "Epoch 76/200, Loss: 0.00820885319262743\n",
            "Epoch 77/200, Loss: 0.04591883718967438\n",
            "Epoch 78/200, Loss: 0.020673053339123726\n",
            "Epoch 79/200, Loss: 0.007020181510597467\n",
            "Epoch 80/200, Loss: 0.00684591569006443\n",
            "Epoch 81/200, Loss: 0.055453360080718994\n",
            "Epoch 82/200, Loss: 0.003083569696173072\n",
            "Epoch 83/200, Loss: 0.049626465886831284\n",
            "Epoch 84/200, Loss: 0.006268167402595282\n",
            "Epoch 85/200, Loss: 0.0015661874786019325\n",
            "Epoch 86/200, Loss: 0.030931228771805763\n",
            "Epoch 87/200, Loss: 0.01144171692430973\n",
            "Epoch 88/200, Loss: 0.0008866590796969831\n",
            "Epoch 89/200, Loss: 0.040253832936286926\n",
            "Epoch 90/200, Loss: 0.010538381524384022\n",
            "Epoch 91/200, Loss: 0.011174604296684265\n",
            "Epoch 92/200, Loss: 0.01771431416273117\n",
            "Epoch 93/200, Loss: 0.013792774640023708\n",
            "Epoch 94/200, Loss: 0.010929521173238754\n",
            "Epoch 95/200, Loss: 0.008407880552113056\n",
            "Epoch 96/200, Loss: 0.026818573474884033\n",
            "Epoch 97/200, Loss: 0.003272675909101963\n",
            "Epoch 98/200, Loss: 0.054368775337934494\n",
            "Epoch 99/200, Loss: 0.001987389288842678\n",
            "Epoch 100/200, Loss: 0.021725738421082497\n",
            "Epoch 101/200, Loss: 0.035813577473163605\n",
            "Epoch 102/200, Loss: 0.013867951929569244\n",
            "Epoch 103/200, Loss: 0.03340330719947815\n",
            "Epoch 104/200, Loss: 0.0011906380532309413\n",
            "Epoch 105/200, Loss: 0.024826524779200554\n",
            "Epoch 106/200, Loss: 0.020602498203516006\n",
            "Epoch 107/200, Loss: 0.028622902929782867\n",
            "Epoch 108/200, Loss: 0.009492124430835247\n",
            "Epoch 109/200, Loss: 0.019660279154777527\n",
            "Epoch 110/200, Loss: 0.006574851460754871\n",
            "Epoch 111/200, Loss: 0.0336579903960228\n",
            "Epoch 112/200, Loss: 0.04596598073840141\n",
            "Epoch 113/200, Loss: 0.00019829371012747288\n",
            "Epoch 114/200, Loss: 0.026452021673321724\n",
            "Epoch 115/200, Loss: 0.02254466339945793\n",
            "Epoch 116/200, Loss: 0.012523685581982136\n",
            "Epoch 117/200, Loss: 0.008089610375463963\n",
            "Epoch 118/200, Loss: 0.0018011071952059865\n",
            "Epoch 119/200, Loss: 0.007575885858386755\n",
            "Epoch 120/200, Loss: 0.0023229566868394613\n",
            "Epoch 121/200, Loss: 0.0037462415639311075\n",
            "Epoch 122/200, Loss: 0.021586112678050995\n",
            "Epoch 123/200, Loss: 0.004917552229017019\n",
            "Epoch 124/200, Loss: 0.0429517962038517\n",
            "Epoch 125/200, Loss: 0.00017145911988336593\n",
            "Epoch 126/200, Loss: 0.014666805975139141\n",
            "Epoch 127/200, Loss: 0.027826089411973953\n",
            "Epoch 128/200, Loss: 0.01781303808093071\n",
            "Epoch 129/200, Loss: 0.011725839227437973\n",
            "Epoch 130/200, Loss: 0.005066978745162487\n",
            "Epoch 131/200, Loss: 0.01752694696187973\n",
            "Epoch 132/200, Loss: 0.000526395917404443\n",
            "Epoch 133/200, Loss: 0.007936127483844757\n",
            "Epoch 134/200, Loss: 0.025221552699804306\n",
            "Epoch 135/200, Loss: 0.02016066014766693\n",
            "Epoch 136/200, Loss: 0.012158817611634731\n",
            "Epoch 137/200, Loss: 0.0163011085242033\n",
            "Epoch 138/200, Loss: 0.011239800602197647\n",
            "Epoch 139/200, Loss: 0.003960121888667345\n",
            "Epoch 140/200, Loss: 0.0024982967879623175\n",
            "Epoch 141/200, Loss: 0.0018617934547364712\n",
            "Epoch 142/200, Loss: 0.014342600479722023\n",
            "Epoch 143/200, Loss: 0.0014958957908675075\n",
            "Epoch 144/200, Loss: 0.0007324325852096081\n",
            "Epoch 145/200, Loss: 0.02687775157392025\n",
            "Epoch 146/200, Loss: 0.00893459003418684\n",
            "Epoch 147/200, Loss: 0.0011636916315183043\n",
            "Epoch 148/200, Loss: 0.01989523321390152\n",
            "Epoch 149/200, Loss: 0.0005396897904574871\n",
            "Epoch 150/200, Loss: 0.0015260613290593028\n",
            "Epoch 151/200, Loss: 0.012234531342983246\n",
            "Epoch 152/200, Loss: 0.0020430665463209152\n",
            "Epoch 153/200, Loss: 0.0017237456049770117\n",
            "Epoch 154/200, Loss: 0.006117032375186682\n",
            "Epoch 155/200, Loss: 0.0012306916760280728\n",
            "Epoch 156/200, Loss: 0.035425253212451935\n",
            "Epoch 157/200, Loss: 0.003776999656111002\n",
            "Epoch 158/200, Loss: 0.028706075623631477\n",
            "Epoch 159/200, Loss: 0.013040621764957905\n",
            "Epoch 160/200, Loss: 0.0032863777596503496\n",
            "Epoch 161/200, Loss: 0.0013511818833649158\n",
            "Epoch 162/200, Loss: 0.004275921732187271\n",
            "Epoch 163/200, Loss: 0.04184439033269882\n",
            "Epoch 164/200, Loss: 0.040809258818626404\n",
            "Epoch 165/200, Loss: 0.002019827952608466\n",
            "Epoch 166/200, Loss: 0.004252055659890175\n",
            "Epoch 167/200, Loss: 0.0100044971331954\n",
            "Epoch 168/200, Loss: 0.018716979771852493\n",
            "Epoch 169/200, Loss: 0.006103675812482834\n",
            "Epoch 170/200, Loss: 0.002830631798133254\n",
            "Epoch 171/200, Loss: 0.00119112862739712\n",
            "Epoch 172/200, Loss: 0.0031586054246872663\n",
            "Epoch 173/200, Loss: 0.011086728423833847\n",
            "Epoch 174/200, Loss: 0.014110480435192585\n",
            "Epoch 175/200, Loss: 0.008757499977946281\n",
            "Epoch 176/200, Loss: 0.000335004209773615\n",
            "Epoch 177/200, Loss: 0.02850365824997425\n",
            "Epoch 178/200, Loss: 0.0006349444156512618\n",
            "Epoch 179/200, Loss: 0.005696745589375496\n",
            "Epoch 180/200, Loss: 0.018866097554564476\n",
            "Epoch 181/200, Loss: 0.005191880278289318\n",
            "Epoch 182/200, Loss: 0.0031648334115743637\n",
            "Epoch 183/200, Loss: 0.014255654998123646\n",
            "Epoch 184/200, Loss: 0.009931592270731926\n",
            "Epoch 185/200, Loss: 3.298320734756999e-05\n",
            "Epoch 186/200, Loss: 0.016233107075095177\n",
            "Epoch 187/200, Loss: 0.0007479653577320278\n",
            "Epoch 188/200, Loss: 0.02125813066959381\n",
            "Epoch 189/200, Loss: 0.0006678869831375778\n",
            "Epoch 190/200, Loss: 0.006131801754236221\n",
            "Epoch 191/200, Loss: 0.012750471942126751\n",
            "Epoch 192/200, Loss: 0.0011397177586331964\n",
            "Epoch 193/200, Loss: 0.007636767812073231\n",
            "Epoch 194/200, Loss: 0.00020701746689155698\n",
            "Epoch 195/200, Loss: 0.018061749637126923\n",
            "Epoch 196/200, Loss: 0.0009676666813902557\n",
            "Epoch 197/200, Loss: 0.0015196058666333556\n",
            "Epoch 198/200, Loss: 3.638574344222434e-05\n",
            "Epoch 199/200, Loss: 0.011226302944123745\n",
            "Epoch 200/200, Loss: 0.0017014408949762583\n"
          ]
        }
      ],
      "source": [
        "model =model.to(torch.device(\"cuda\"))\n",
        "for epoch in range(num_epochs):\n",
        "    for batch_X, batch_y in train_loader:\n",
        "        optimizer.zero_grad()\n",
        "        output = model(batch_X)\n",
        "        loss = loss_func(output, batch_y)\n",
        "        loss.backward()\n",
        "        optimizer.step()\n",
        "    print(f\"Epoch {epoch + 1}/{num_epochs}, Loss: {loss.item()}\")"
      ]
    },
    {
      "cell_type": "markdown",
      "metadata": {},
      "source": [
        "Here a dataLoader is created on the test dataset using a batch size of 32"
      ]
    },
    {
      "cell_type": "markdown",
      "metadata": {},
      "source": [
        "The test data is then passed into the model to obtain outputs which are then appended to the lists representing the predictions and the true labels. This heppens for each batch"
      ]
    },
    {
      "cell_type": "markdown",
      "metadata": {},
      "source": [
        "Lastly, using the 2 lists, we calculate the accuracy of our predictions using the true labels which come out to be around 86.6%"
      ]
    },
    {
      "cell_type": "code",
      "execution_count": 180,
      "metadata": {
        "colab": {
          "base_uri": "https://localhost:8080/"
        },
        "id": "fknWBn4IG6o7",
        "outputId": "956c655e-fd99-4ab6-9c10-667e676ac70d"
      },
      "outputs": [
        {
          "name": "stdout",
          "output_type": "stream",
          "text": [
            "Test Accuracy: 0.8665436809784943\n"
          ]
        }
      ],
      "source": [
        "batch_size = 32\n",
        "\n",
        "dataset = torch.utils.data.TensorDataset(X1, y1)\n",
        "data_loader = DataLoader(dataset, batch_size=batch_size, shuffle=False)\n",
        "\n",
        "predictions = []\n",
        "true_labels = []\n",
        "\n",
        "with torch.no_grad():\n",
        "    model.eval()\n",
        "\n",
        "    for batch_X, batch_y in data_loader:\n",
        "        batch_X = batch_X.to(torch.device(\"cuda\"))\n",
        "        batch_y = batch_y.to(torch.device(\"cuda\"))\n",
        "\n",
        "        batch_output = model(batch_X)\n",
        "        predictions.append(batch_output.cpu().numpy())\n",
        "        true_labels.append(batch_y.cpu().numpy())\n",
        "\n",
        "predictions = np.concatenate(predictions, axis=0)\n",
        "true_labels = np.concatenate(true_labels, axis=0)\n",
        "\n",
        "final_predictions = (predictions > 0.5).astype(int)\n",
        "\n",
        "acc = accuracy_score(true_labels, final_predictions)\n",
        "print(f'Test Accuracy: {acc}')"
      ]
    }
  ],
  "metadata": {
    "accelerator": "GPU",
    "colab": {
      "gpuType": "T4",
      "provenance": []
    },
    "kernelspec": {
      "display_name": "Python 3",
      "name": "python3"
    },
    "language_info": {
      "codemirror_mode": {
        "name": "ipython",
        "version": 3
      },
      "file_extension": ".py",
      "mimetype": "text/x-python",
      "name": "python",
      "nbconvert_exporter": "python",
      "pygments_lexer": "ipython3",
      "version": "3.11.7"
    },
    "orig_nbformat": 4
  },
  "nbformat": 4,
  "nbformat_minor": 0
}
