{
 "cells": [
  {
   "cell_type": "code",
   "execution_count": 11,
   "metadata": {},
   "outputs": [
    {
     "name": "stderr",
     "output_type": "stream",
     "text": [
      "[nltk_data] Downloading package stopwords to /home/ahg/nltk_data...\n",
      "[nltk_data]   Package stopwords is already up-to-date!\n",
      "[nltk_data] Downloading package wordnet to /home/ahg/nltk_data...\n",
      "[nltk_data]   Package wordnet is already up-to-date!\n"
     ]
    },
    {
     "data": {
      "text/plain": [
       "True"
      ]
     },
     "execution_count": 11,
     "metadata": {},
     "output_type": "execute_result"
    }
   ],
   "source": [
    "import re\n",
    "\n",
    "import numpy as np\n",
    "import pandas as pd\n",
    "\n",
    "import nltk\n",
    "from nltk.corpus import stopwords\n",
    "\n",
    "from sklearn.model_selection import train_test_split\n",
    "\n",
    "import gensim.downloader as api\n",
    "from gensim.models.word2vec import Word2Vec\n",
    "from sentence_transformers import SentenceTransformer\n",
    "\n",
    "from gpt4all import Embed4All\n",
    "\n",
    "import torch\n",
    "import torch.nn as nn\n",
    "\n",
    "nltk.download('stopwords')\n",
    "nltk.download('wordnet')"
   ]
  },
  {
   "cell_type": "code",
   "execution_count": 12,
   "metadata": {},
   "outputs": [
    {
     "name": "stdout",
     "output_type": "stream",
     "text": [
      "(111699, 1) (47872, 1)\n",
      "(111699, 6) (47872, 6)\n"
     ]
    }
   ],
   "source": [
    "\n",
    "# Read in the data here\n",
    "df = pd.read_csv(\"./train.csv\")\n",
    "df = df[[\"comment_text\", \"toxic\", \"severe_toxic\", \"obscene\", \"threat\", \"insult\", \"identity_hate\"]]\n",
    "\n",
    "\n",
    "# Split the data\n",
    "...\n",
    "df=df.to_numpy()\n",
    "text=df[:,0]\n",
    "target=df[:,1:]\n",
    "\n",
    "\n",
    "\n",
    "train_text, val_text = train_test_split(text,train_size=0.70,random_state=420)\n",
    "train_target, val_target = train_test_split(target,train_size=0.70,random_state=420)\n",
    "train_text=train_text.reshape(-1,1)\n",
    "val_text=val_text.reshape(-1,1)\n",
    "print(train_text.shape, val_text.shape)\n",
    "print(train_target.shape, val_target.shape)\n"
   ]
  },
  {
   "cell_type": "code",
   "execution_count": 13,
   "metadata": {},
   "outputs": [
    {
     "name": "stdout",
     "output_type": "stream",
     "text": [
      "(106412, 1) (106412, 6)\n",
      "(45552, 1) (45552, 6)\n"
     ]
    }
   ],
   "source": [
    "# TODO: Clean the sentences (5 marks)\n",
    "import string\n",
    "\n",
    "\n",
    "\n",
    "# TODO: Fill out the following functions, adding more if desired\n",
    "\n",
    "def lowercase(txt):\n",
    "    return txt.lower()\n",
    "\n",
    "def remove_punctuation(txt):\n",
    "    \n",
    "    remover = str.maketrans(\"\", \"\", string.punctuation)\n",
    "    return txt.translate(remover)\n",
    "    \n",
    "def remove_stopwords(txt):\n",
    "    words=txt.split()\n",
    "    stop_words=set(stopwords.words('english'))\n",
    "    filtered_sentence=[]\n",
    "    for i in words:\n",
    "        if i not in stop_words:\n",
    "            filtered_sentence.append(i)   \n",
    "    words=' '.join(filtered_sentence)\n",
    "\n",
    "    return words\n",
    "\n",
    "def remove_numbers(txt):\n",
    "    \n",
    "    return re.sub(r'\\d+', '', txt)\n",
    "\n",
    "def remove_url(txt):\n",
    "    \n",
    "    return re.sub(r'http\\S+', '', txt)\n",
    "\n",
    "def normalize_sentence(txt):\n",
    "    '''\n",
    "    Aggregates all the above functions to normalize/clean a sentence\n",
    "    '''\n",
    "    return remove_url(remove_numbers(remove_stopwords(remove_punctuation(lowercase(txt)))))\n",
    "\n",
    "def remover(txt):\n",
    "    if len(txt) >= 20:\n",
    "        return True\n",
    "    else:\n",
    "        return False\n",
    "    \n",
    "\n",
    "# TODO: Clean the sentences  \n",
    "for i in range(0,train_text.shape[0],1):\n",
    "    train_text[i,0]=normalize_sentence(train_text[i,0])\n",
    "\n",
    "    \n",
    "for i in range(val_text.shape[0]):\n",
    "    val_text[i,0]=normalize_sentence(val_text[i,0])\n",
    "\n",
    "# TODO: Filter sentences that are too short (less than 20ish characters)\n",
    "\n",
    "mask = torch.tensor([remover(train_text[i, 0]) for i in range(train_text.shape[0])])\n",
    "filtered_train_text = train_text[mask == True, :]\n",
    "filtered_train_target = train_target[mask == True, :]\n",
    "\n",
    "mask = torch.tensor([remover(val_text[i, 0]) for i in range(val_text.shape[0])])\n",
    "filtered_val_text = val_text[mask == True, :]\n",
    "filtered_val_target = val_target[mask == True, :]\n",
    "\n",
    "\n",
    "print(filtered_train_text.shape, filtered_train_target.shape)\n",
    "print(filtered_val_text.shape, filtered_val_target.shape)\n",
    "\n",
    "\n"
   ]
  },
  {
   "cell_type": "code",
   "execution_count": 14,
   "metadata": {},
   "outputs": [],
   "source": [
    "feature_extractor = SentenceTransformer('sentence-transformers/all-MiniLM-L6-v2')\n"
   ]
  },
  {
   "cell_type": "code",
   "execution_count": 15,
   "metadata": {},
   "outputs": [
    {
     "name": "stdout",
     "output_type": "stream",
     "text": [
      "Training embeddings done\n",
      "(106412, 384)\n",
      "(45552, 384)\n",
      "Your vector is a NumPy array.\n",
      "Your vector is a NumPy array.\n"
     ]
    }
   ],
   "source": [
    "# TODO: Encode the train samples\n",
    "\n",
    "\n",
    "# TODO: Encode the train sentences\n",
    "embeddings_train=feature_extractor.encode(filtered_train_text[:,0])\n",
    "\n",
    "print(\"Training embeddings done\")\n",
    "\n",
    "# TODO: Encode the validation sentences\n",
    "embeddings_val=feature_extractor.encode(filtered_val_text[:,0])\n",
    "\n",
    "# TODO: Ready the labels\n",
    "print(embeddings_train.shape)\n",
    "print(embeddings_val.shape)\n",
    "if isinstance(embeddings_train, np.ndarray):\n",
    "    print(\"Your vector is a NumPy array.\")\n",
    "else:\n",
    "    print(\"Your vector is not a NumPy array.\")\n",
    "if isinstance(embeddings_val, np.ndarray):\n",
    "    print(\"Your vector is a NumPy array.\")\n",
    "else:\n",
    "    print(\"Your vector is not a NumPy array.\")\n",
    "\n"
   ]
  },
  {
   "cell_type": "code",
   "execution_count": 17,
   "metadata": {},
   "outputs": [
    {
     "name": "stdout",
     "output_type": "stream",
     "text": [
      "Validation Accuracy: 0.9141\n"
     ]
    },
    {
     "data": {
      "image/png": "[encoded data removed]",
      "text/plain": [
       "<Figure size 1000x800 with 2 Axes>"
      ]
     },
     "metadata": {},
     "output_type": "display_data"
    }
   ],
   "source": [
    "from sklearn.linear_model import LogisticRegression\n",
    "from sklearn.multioutput import MultiOutputClassifier\n",
    "from sklearn.metrics import accuracy_score, confusion_matrix\n",
    "import seaborn as sns\n",
    "import matplotlib.pyplot as plt\n",
    "\n",
    "logistic_reg_model = LogisticRegression()\n",
    "multi_classifer = MultiOutputClassifier(logistic_reg_model)\n",
    "train_labels = filtered_train_target.astype(int)\n",
    "validation_labels = filtered_val_target.astype(int)\n",
    "multi_classifer.fit(embeddings_train, train_labels)\n",
    "predictions = multi_classifer.predict(embeddings_val)\n",
    "\n",
    "accuracy = accuracy_score(validation_labels, predictions)\n",
    "print(f\"Validation Accuracy: {accuracy:.4f}\")\n",
    "\n",
    "cm = confusion_matrix(validation_labels.flatten(), predictions.flatten())\n",
    "plt.figure(figsize=(10, 8))\n",
    "sns.heatmap(cm, annot=True, fmt='d', cmap='Blues', xticklabels=[0, 1], yticklabels=[0, 1])\n",
    "plt.xlabel('Predicted Label')\n",
    "plt.ylabel('True Label')\n",
    "plt.title('Confusion Matrix')\n",
    "plt.show()\n",
    "\n"
   ]
  }
 ],
 "metadata": {
  "kernelspec": {
   "display_name": "Python 3",
   "language": "python",
   "name": "python3"
  },
  "language_info": {
   "codemirror_mode": {
    "name": "ipython",
    "version": 3
   },
   "file_extension": ".py",
   "mimetype": "text/x-python",
   "name": "python",
   "nbconvert_exporter": "python",
   "pygments_lexer": "ipython3",
   "version": "3.10.12"
  }
 },
 "nbformat": 4,
 "nbformat_minor": 2
}
